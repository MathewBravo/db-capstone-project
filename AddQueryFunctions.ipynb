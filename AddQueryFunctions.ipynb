{
 "cells": [
  {
   "cell_type": "code",
   "execution_count": null,
   "id": "initial_id",
   "metadata": {
    "collapsed": true
   },
   "outputs": [],
   "source": [
    "#python -m pip install jupyter\n",
    "#!pip install mysql-connector-python"
   ]
  },
  {
   "cell_type": "code",
   "execution_count": 1,
   "outputs": [],
   "source": [
    "import mysql.connector as connector"
   ],
   "metadata": {
    "collapsed": false,
    "ExecuteTime": {
     "end_time": "2023-10-22T19:02:23.618005Z",
     "start_time": "2023-10-22T19:02:23.583152800Z"
    }
   },
   "id": "fa67f791b427615d"
  },
  {
   "cell_type": "code",
   "execution_count": 2,
   "outputs": [],
   "source": [
    "connection = connector.connect(user = \"root\", password = \"Pokerchamp1313\", db = \"littlelemondb\")\n",
    "cursor = connection.cursor()"
   ],
   "metadata": {
    "collapsed": false,
    "ExecuteTime": {
     "end_time": "2023-10-22T19:02:23.987306300Z",
     "start_time": "2023-10-22T19:02:23.967435200Z"
    }
   },
   "id": "e7270fb28e6c5751"
  },
  {
   "cell_type": "markdown",
   "source": [
    "# TASK TWO"
   ],
   "metadata": {
    "collapsed": false
   },
   "id": "fe170cc1149c1a5a"
  },
  {
   "cell_type": "code",
   "execution_count": 3,
   "outputs": [],
   "source": [
    "show_tables_query = \"SHOW TABLES;\""
   ],
   "metadata": {
    "collapsed": false,
    "ExecuteTime": {
     "end_time": "2023-10-22T19:02:24.696067400Z",
     "start_time": "2023-10-22T19:02:24.632588400Z"
    }
   },
   "id": "3f7230f381630c"
  },
  {
   "cell_type": "code",
   "execution_count": 4,
   "outputs": [],
   "source": [
    "cursor.execute(show_tables_query)"
   ],
   "metadata": {
    "collapsed": false,
    "ExecuteTime": {
     "end_time": "2023-10-22T19:02:24.876398700Z",
     "start_time": "2023-10-22T19:02:24.870473200Z"
    }
   },
   "id": "b4642191ee93a64a"
  },
  {
   "cell_type": "code",
   "execution_count": 5,
   "outputs": [
    {
     "name": "stdout",
     "output_type": "stream",
     "text": [
      "[('bookings',), ('customerdetails',), ('employees',), ('menu',), ('menuitems',), ('orders',), ('orderstatus',), ('ordersview',)]\n"
     ]
    }
   ],
   "source": [
    "results = cursor.fetchall()\n",
    "print(results)\n",
    "cursor.close();"
   ],
   "metadata": {
    "collapsed": false,
    "ExecuteTime": {
     "end_time": "2023-10-22T19:02:25.089751200Z",
     "start_time": "2023-10-22T19:02:25.085349200Z"
    }
   },
   "id": "bcac0e9f7f3467cb"
  },
  {
   "cell_type": "markdown",
   "source": [
    "# TASK THREE"
   ],
   "metadata": {
    "collapsed": false
   },
   "id": "9cf554190d8f67d0"
  },
  {
   "cell_type": "code",
   "execution_count": 6,
   "outputs": [],
   "source": [
    "cursor = connection.cursor()\n",
    "\n",
    "join_query = \"\"\"\n",
    "SELECT CustomerDetails.Name, CustomerDetails.ContactNumber, Orders.TotalCost\n",
    "FROM CustomerDetails\n",
    "JOIN Orders ON CustomerDetails.CustomerID = Orders.CustomerID\n",
    "WHERE Orders.TotalCost > 60;\n",
    "\"\"\""
   ],
   "metadata": {
    "collapsed": false,
    "ExecuteTime": {
     "end_time": "2023-10-22T19:02:25.817390300Z",
     "start_time": "2023-10-22T19:02:25.811051500Z"
    }
   },
   "id": "5f3089cf8acc9a8f"
  },
  {
   "cell_type": "code",
   "execution_count": 7,
   "outputs": [
    {
     "name": "stdout",
     "output_type": "stream",
     "text": [
      "Customers with orders greater than $60: [('Laney Fadden', '123-456-7890', Decimal('125.00')), ('Giacopo Bramich', '123-456-7891', Decimal('235.00')), ('Lia Bonar', '123-456-7892', Decimal('75.00')), ('Merrill Baudon', '123-456-7893', Decimal('220.00')), ('Tasia Fautly', '123-456-7894', Decimal('320.00')), ('Angel Veschambre', '123-456-7895', Decimal('210.00')), ('Sheilah Maestro', '123-456-7896', Decimal('310.00')), ('Audie Willcocks', '123-456-7897', Decimal('225.00')), ('Mart Malsher', '123-456-7898', Decimal('190.00')), ('Magdalen Lacheze', '123-456-7899', Decimal('98.00')), ('Margarita Mancktelow', '123-456-7800', Decimal('168.27')), ('Ashil Brogini', '123-456-7801', Decimal('101.60')), ('Arthur Mathewson', '123-456-7802', Decimal('93.13')), ('Tiffani Halstead', '123-456-7804', Decimal('91.84')), ('Roddie Winterbotham', '123-456-7805', Decimal('133.17')), ('Tony Crabtree', '123-456-7807', Decimal('83.99')), ('Tamarah Filasov', '123-456-7808', Decimal('69.38')), ('Pen Pruce', '123-456-7809', Decimal('119.80'))]\n"
     ]
    }
   ],
   "source": [
    "cursor.execute(join_query)\n",
    "results = cursor.fetchall()\n",
    "print(\"Customers with orders greater than $60:\", results)"
   ],
   "metadata": {
    "collapsed": false,
    "ExecuteTime": {
     "end_time": "2023-10-22T19:02:26.444381700Z",
     "start_time": "2023-10-22T19:02:26.439833500Z"
    }
   },
   "id": "f6b745272af45ae4"
  },
  {
   "cell_type": "code",
   "execution_count": 8,
   "outputs": [],
   "source": [
    "# Close the cursor and connection\n",
    "cursor.close()\n",
    "connection.close()"
   ],
   "metadata": {
    "collapsed": false,
    "ExecuteTime": {
     "end_time": "2023-10-22T19:02:27.305883600Z",
     "start_time": "2023-10-22T19:02:27.300070700Z"
    }
   },
   "id": "707cca55307d8221"
  }
 ],
 "metadata": {
  "kernelspec": {
   "display_name": "Python 3",
   "language": "python",
   "name": "python3"
  },
  "language_info": {
   "codemirror_mode": {
    "name": "ipython",
    "version": 2
   },
   "file_extension": ".py",
   "mimetype": "text/x-python",
   "name": "python",
   "nbconvert_exporter": "python",
   "pygments_lexer": "ipython2",
   "version": "2.7.6"
  }
 },
 "nbformat": 4,
 "nbformat_minor": 5
}
